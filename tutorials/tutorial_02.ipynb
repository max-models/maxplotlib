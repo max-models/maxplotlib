{
 "cells": [
  {
   "cell_type": "code",
   "execution_count": 1,
   "id": "3816e8ed-5107-4d8c-9e78-f801af118811",
   "metadata": {},
   "outputs": [],
   "source": [
    "import maxplotlib.canvas.canvas as canvas\n",
    "\n",
    "%load_ext autoreload\n",
    "%autoreload 2"
   ]
  },
  {
   "cell_type": "code",
   "execution_count": 34,
   "id": "650f0afa-f719-4495-b020-fc2b2df36bd7",
   "metadata": {},
   "outputs": [
    {
     "name": "stdout",
     "output_type": "stream",
     "text": [
      "\\begin{tikzpicture}\n",
      "    \\node[shape={circle}, draw={black}, fill={blue!20}] (A) at (0, 0) {A};\n",
      "    \\node[shape={rectangle}, draw={red}] (B) at (2, 2) {B};\n",
      "    \\node[shape={rectangle}, draw={red}] (C) at (2, 5) {C};\n",
      "    \\node[shape={rectangle}, draw={red}] (D) at (1, 5) {D};\n",
      "    \\draw[color={darkgreen}, style={dashed}, line width={2pt}] (A) -- (B) -- (C) -- (A) -- (D);\n",
      "\\end{tikzpicture}\n",
      "An error occurred while compiling the LaTeX document:\n",
      "\n"
     ]
    }
   ],
   "source": [
    "c = canvas.Canvas(width=800, ratio=0.5)\n",
    "tikz = c.add_tikzfigure(grid=False)\n",
    "\n",
    "# Add nodes\n",
    "tikz.add_node('A', 0, 0, shape='circle', draw='black', fill='blue!20')\n",
    "tikz.add_node('B', 2, 2, shape='rectangle', draw='red')\n",
    "tikz.add_node('C', 2, 5, shape='rectangle', draw='red')\n",
    "tikz.add_node('D', 1, 5, shape='rectangle', draw='red')\n",
    "\n",
    "# Add a line between nodes \n",
    "tikz.add_line(['A', 'B', 'C', 'A', 'D'], color='darkgreen', style='dashed', line_width='2pt')\n",
    "\n",
    "# Generate the TikZ script\n",
    "script = tikz.generate_tikz()\n",
    "print(script)\n",
    "tikz.compile_pdf('my_figure.pdf')"
   ]
  },
  {
   "cell_type": "code",
   "execution_count": null,
   "id": "344589d9-c60f-4d01-8171-e35db585f1ad",
   "metadata": {},
   "outputs": [],
   "source": []
  },
  {
   "cell_type": "code",
   "execution_count": null,
   "id": "7c37d9b8-256b-4907-9c95-288b18cb396d",
   "metadata": {},
   "outputs": [],
   "source": []
  }
 ],
 "metadata": {
  "kernelspec": {
   "display_name": "Python 3 (ipykernel)",
   "language": "python",
   "name": "python3"
  },
  "language_info": {
   "codemirror_mode": {
    "name": "ipython",
    "version": 3
   },
   "file_extension": ".py",
   "mimetype": "text/x-python",
   "name": "python",
   "nbconvert_exporter": "python",
   "pygments_lexer": "ipython3",
   "version": "3.9.20"
  }
 },
 "nbformat": 4,
 "nbformat_minor": 5
}
