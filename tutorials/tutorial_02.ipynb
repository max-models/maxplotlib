{
 "cells": [
  {
   "cell_type": "code",
   "execution_count": 37,
   "id": "3816e8ed-5107-4d8c-9e78-f801af118811",
   "metadata": {},
   "outputs": [
    {
     "name": "stdout",
     "output_type": "stream",
     "text": [
      "The autoreload extension is already loaded. To reload it, use:\n",
      "  %reload_ext autoreload\n"
     ]
    }
   ],
   "source": [
    "import maxplotlib.canvas.canvas as canvas\n",
    "from IPython.display import IFrame\n",
    "%load_ext autoreload\n",
    "%autoreload 2"
   ]
  },
  {
   "cell_type": "code",
   "execution_count": 62,
   "id": "650f0afa-f719-4495-b020-fc2b2df36bd7",
   "metadata": {},
   "outputs": [
    {
     "name": "stdout",
     "output_type": "stream",
     "text": [
      "A\n",
      "\\begin{tikzpicture}\n",
      "    \\node[shape={circle}, draw={black}, fill={blue!20}] (A) at (0, 0) {Origin node};\n",
      "    \\node[shape={rectangle}, draw={red}] (B) at (2, 2) {};\n",
      "    \\node[shape={rectangle}, draw={red}] (C) at (2, 5) {};\n",
      "    \\node[shape={rectangle}, draw={red}] (node3) at (1, 5) {};\n",
      "    \\draw[color={green}, style={solid}, line width={2pt}] (A) -- (B) -- (C) -- (A) -- (node3);\n",
      "\\end{tikzpicture}\n",
      "PDF successfully compiled and saved as 'my_figure.pdf'.\n"
     ]
    }
   ],
   "source": [
    "c = canvas.Canvas(width=800, ratio=0.5)\n",
    "tikz = c.add_tikzfigure(grid=False)\n",
    "\n",
    "# Add nodes\n",
    "node_a = tikz.add_node(0, 0, 'A', content='Origin node', shape='circle', draw='black', fill='blue!20')\n",
    "tikz.add_node(2, 2, 'B', shape='rectangle', draw='red')\n",
    "tikz.add_node(2, 5, 'C', shape='rectangle', draw='red')\n",
    "last_node = tikz.add_node(1, 5, shape='rectangle', draw='red')\n",
    "\n",
    "print(node_a.label)\n",
    "\n",
    "# Add a line between nodes \n",
    "tikz.add_path([node_a, 'B', 'C', 'A', last_node], color='green', style='solid', line_width='2pt')\n",
    "\n",
    "# Generate the TikZ script\n",
    "script = tikz.generate_tikz()\n",
    "print(script)\n",
    "tikz.compile_pdf('my_figure.pdf')\n",
    "# Replace 'path_to_pdf' with the path to your PDF file\n",
    "\n"
   ]
  },
  {
   "cell_type": "code",
   "execution_count": 73,
   "id": "344589d9-c60f-4d01-8171-e35db585f1ad",
   "metadata": {},
   "outputs": [
    {
     "name": "stdout",
     "output_type": "stream",
     "text": [
      "A\n",
      "800 400.0 2.6666666666666665 1.3333333333333333\n"
     ]
    },
    {
     "data": {
      "image/png": "[encoded data removed]",
      "text/plain": [
       "<Figure size 800x400 with 2 Axes>"
      ]
     },
     "metadata": {},
     "output_type": "display_data"
    },
    {
     "data": {
      "text/plain": [
       "(<Figure size 800x400 with 2 Axes>,\n",
       " array([[<Axes: >, <Axes: >]], dtype=object))"
      ]
     },
     "execution_count": 73,
     "metadata": {},
     "output_type": "execute_result"
    }
   ],
   "source": [
    "c = canvas.Canvas(ncols=2,width=800, ratio=0.5)\n",
    "tikz = c.add_tikzfigure(grid=False)\n",
    "\n",
    "# Add nodes\n",
    "node_a = tikz.add_node(0, 0, 'A', content='Origin node', shape='circle', draw='black', fill='blue!20')\n",
    "tikz.add_node(2, 2, 'B', shape='rectangle', draw='red')\n",
    "tikz.add_node(2, 5, 'C', shape='rectangle', draw='red')\n",
    "last_node = tikz.add_node(1, 5, shape='rectangle', draw='red')\n",
    "\n",
    "print(node_a.label)\n",
    "\n",
    "# Add a line between nodes \n",
    "tikz.add_path([node_a, 'B', 'C', 'A', last_node], color='green', style='solid', line_width='2pt')\n",
    "\n",
    "# Generate the TikZ script\n",
    "#script = tikz.generate_tikz()\n",
    "\n",
    "# Replace 'path_to_pdf' with the path to your PDF file\n",
    "c.plot(backend='matplotlib')"
   ]
  },
  {
   "cell_type": "code",
   "execution_count": null,
   "id": "7c37d9b8-256b-4907-9c95-288b18cb396d",
   "metadata": {},
   "outputs": [],
   "source": []
  },
  {
   "cell_type": "code",
   "execution_count": null,
   "id": "3081683f-8f1e-47ad-83bd-5a38899dde33",
   "metadata": {},
   "outputs": [],
   "source": []
  }
 ],
 "metadata": {
  "kernelspec": {
   "display_name": "Python 3 (ipykernel)",
   "language": "python",
   "name": "python3"
  },
  "language_info": {
   "codemirror_mode": {
    "name": "ipython",
    "version": 3
   },
   "file_extension": ".py",
   "mimetype": "text/x-python",
   "name": "python",
   "nbconvert_exporter": "python",
   "pygments_lexer": "ipython3",
   "version": "3.9.20"
  }
 },
 "nbformat": 4,
 "nbformat_minor": 5
}
